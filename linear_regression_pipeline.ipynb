{
 "cells": [
  {
   "cell_type": "markdown",
   "id": "041047b3",
   "metadata": {},
   "source": [
    "# Linear Regression, Ridge, and Lasso Regression Pipeline\n",
    "This notebook demonstrates a full machine learning workflow using **Linear Regression**, **Ridge Regression**, and **Lasso Regression**. We will emphasize data preprocessing and feature engineering, suitable for beginner to intermediate learners."
   ]
  },
  {
   "cell_type": "code",
   "execution_count": null,
   "id": "85a7e42a",
   "metadata": {},
   "outputs": [],
   "source": [
    "# Step 1: Import libraries\n",
    "import pandas as pd\n",
    "import numpy as np\n",
    "import matplotlib.pyplot as plt\n",
    "import seaborn as sns\n",
    "\n",
    "from sklearn.model_selection import train_test_split, cross_val_score\n",
    "from sklearn.linear_model import LinearRegression, Ridge, Lasso\n",
    "from sklearn.preprocessing import StandardScaler, OneHotEncoder\n",
    "from sklearn.compose import ColumnTransformer\n",
    "from sklearn.pipeline import Pipeline\n",
    "from sklearn.metrics import mean_squared_error, r2_score"
   ]
  },
  {
   "cell_type": "code",
   "execution_count": null,
   "id": "edc53a28",
   "metadata": {},
   "outputs": [],
   "source": [
    "# Step 2: Load the datasets\n",
    "train = pd.read_csv(\"/mnt/data/dataset/train.csv\")\n",
    "test = pd.read_csv(\"/mnt/data/dataset/test.csv\")\n",
    "sample = pd.read_csv(\"/mnt/data/dataset/sample_submission.csv\")\n",
    "\n",
    "print(\"Train shape:\", train.shape)\n",
    "print(\"Test shape:\", test.shape)\n",
    "train.head()"
   ]
  },
  {
   "cell_type": "code",
   "execution_count": null,
   "id": "5fcc6f81",
   "metadata": {},
   "outputs": [],
   "source": [
    "# Step 3: Exploratory Data Analysis (EDA)\n",
    "print(\"\\nMissing values in train:\")\n",
    "print(train.isnull().sum().sort_values(ascending=False).head())\n",
    "\n",
    "print(\"\\nTrain data info:\")\n",
    "print(train.info())\n",
    "\n",
    "# Quick statistics\n",
    "print(train.describe().T)\n",
    "\n",
    "# Correlation heatmap for numeric features\n",
    "plt.figure(figsize=(10,6))\n",
    "sns.heatmap(train.corr(), cmap=\"coolwarm\", annot=False)\n",
    "plt.title(\"Correlation Heatmap\")\n",
    "plt.show()"
   ]
  },
  {
   "cell_type": "code",
   "execution_count": null,
   "id": "14297d5f",
   "metadata": {},
   "outputs": [],
   "source": [
    "# Step 4: Data Preprocessing\n",
    "# Separate features and target\n",
    "y = train['target']  # Replace 'target' with actual target column name\n",
    "X = train.drop(columns=['target'])\n",
    "\n",
    "# Identify categorical and numerical columns\n",
    "categorical_cols = [col for col in X.columns if X[col].dtype == 'object']\n",
    "numeric_cols = [col for col in X.columns if X[col].dtype in ['int64', 'float64']]\n",
    "\n",
    "# Preprocessor: scale numeric and one-hot encode categoricals\n",
    "numeric_transformer = Pipeline(steps=[\n",
    "    ('scaler', StandardScaler())\n",
    "])\n",
    "\n",
    "categorical_transformer = Pipeline(steps=[\n",
    "    ('encoder', OneHotEncoder(handle_unknown='ignore'))\n",
    "])\n",
    "\n",
    "preprocessor = ColumnTransformer(\n",
    "    transformers=[\n",
    "        ('num', numeric_transformer, numeric_cols),\n",
    "        ('cat', categorical_transformer, categorical_cols)\n",
    "    ])"
   ]
  },
  {
   "cell_type": "code",
   "execution_count": null,
   "id": "3c378d0e",
   "metadata": {},
   "outputs": [],
   "source": [
    "# Step 5: Split train/validation\n",
    "X_train, X_valid, y_train, y_valid = train_test_split(X, y, test_size=0.2, random_state=42)"
   ]
  },
  {
   "cell_type": "code",
   "execution_count": null,
   "id": "8a196f88",
   "metadata": {},
   "outputs": [],
   "source": [
    "# Step 6: Define models\n",
    "models = {\n",
    "    'LinearRegression': LinearRegression(),\n",
    "    'Ridge': Ridge(alpha=1.0),\n",
    "    'Lasso': Lasso(alpha=0.01)\n",
    "}"
   ]
  },
  {
   "cell_type": "code",
   "execution_count": null,
   "id": "93e31d11",
   "metadata": {},
   "outputs": [],
   "source": [
    "# Step 7: Train and evaluate models\n",
    "results = {}\n",
    "\n",
    "for name, model in models.items():\n",
    "    pipe = Pipeline(steps=[('preprocessor', preprocessor),\n",
    "                           ('model', model)])\n",
    "    pipe.fit(X_train, y_train)\n",
    "    preds = pipe.predict(X_valid)\n",
    "    rmse = np.sqrt(mean_squared_error(y_valid, preds))\n",
    "    r2 = r2_score(y_valid, preds)\n",
    "    results[name] = {\"RMSE\": rmse, \"R2\": r2}\n",
    "    print(f\"{name} -> RMSE: {rmse:.4f}, R2: {r2:.4f}\")"
   ]
  },
  {
   "cell_type": "code",
   "execution_count": null,
   "id": "602479fa",
   "metadata": {},
   "outputs": [],
   "source": [
    "# Step 8: Choose best model and predict on test set\n",
    "best_model_name = min(results, key=lambda x: results[x]['RMSE'])\n",
    "print(\"\\nBest model:\", best_model_name)\n",
    "\n",
    "best_model = Pipeline(steps=[('preprocessor', preprocessor),\n",
    "                             ('model', models[best_model_name])])\n",
    "best_model.fit(X, y)\n",
    "\n",
    "test_preds = best_model.predict(test)\n",
    "\n",
    "# Step 9: Prepare submission\n",
    "submission = sample.copy()\n",
    "submission['target'] = test_preds  # Replace 'target' with correct column name\n",
    "submission.to_csv(\"/mnt/data/submission.csv\", index=False)\n",
    "\n",
    "print(\"Submission file saved!\")"
   ]
  }
 ],
 "metadata": {},
 "nbformat": 4,
 "nbformat_minor": 5
}
